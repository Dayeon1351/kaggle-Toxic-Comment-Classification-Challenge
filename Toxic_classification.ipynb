{
 "cells": [
  {
   "cell_type": "markdown",
   "metadata": {},
   "source": [
    "## Import packages"
   ]
  },
  {
   "cell_type": "code",
   "execution_count": 1,
   "metadata": {},
   "outputs": [
    {
     "name": "stderr",
     "output_type": "stream",
     "text": [
      "/home/dislab/anaconda2/lib/python2.7/site-packages/h5py/__init__.py:36: FutureWarning: Conversion of the second argument of issubdtype from `float` to `np.floating` is deprecated. In future, it will be treated as `np.float64 == np.dtype(float).type`.\n",
      "  from ._conv import register_converters as _register_converters\n",
      "Using TensorFlow backend.\n"
     ]
    }
   ],
   "source": [
    "%matplotlib inline\n",
    "import sys, os, re, csv, math, codecs, numpy as np, pandas as pd\n",
    "\n",
    "from keras.preprocessing.text import Tokenizer\n",
    "from keras.preprocessing.sequence import pad_sequences\n",
    "from keras.layers.normalization import BatchNormalization\n",
    "from keras.layers.advanced_activations import ELU\n",
    "from keras.layers import Dense, Input, LSTM, Embedding, Dropout, Activation, SpatialDropout1D, MaxPool1D, Flatten, Conv1D\n",
    "from keras.callbacks import ReduceLROnPlateau, ModelCheckpoint\n",
    "from keras.layers import Bidirectional, GlobalMaxPool1D\n",
    "from keras.models import Model\n",
    "from keras import initializers, regularizers, constraints, optimizers, layers"
   ]
  },
  {
   "cell_type": "markdown",
   "metadata": {},
   "source": [
    "## Define constants"
   ]
  },
  {
   "cell_type": "code",
   "execution_count": 2,
   "metadata": {},
   "outputs": [],
   "source": [
    "EMBEDDING_FILE='./data/glove.6B.50d.txt'\n",
    "TRAIN_DATA_FILE='./data/train.csv'\n",
    "TEST_DATA_FILE='./data/test.csv'\n",
    "MODEL_WEIGHTS_FILE = './toxic_model.h5'"
   ]
  },
  {
   "cell_type": "code",
   "execution_count": 3,
   "metadata": {},
   "outputs": [],
   "source": [
    "embed_size = 50 # 단어를 몇 차원으로 임베딩할 것인가(how many dimensions use to embed word?) \n",
    "max_features = 20000 # 몇개의 단어를 주요한 특징으로 볼 것인가(How many words will be the main feature?) \n",
    "maxlen = 100 # 한 comment에서 가져올 수 있는 단어의 최대 갯수(The maximum number of words a comment can get?)"
   ]
  },
  {
   "cell_type": "markdown",
   "metadata": {},
   "source": [
    "## Load Toxic data"
   ]
  },
  {
   "cell_type": "code",
   "execution_count": 4,
   "metadata": {},
   "outputs": [],
   "source": [
    "train = pd.read_csv(TRAIN_DATA_FILE)\n",
    "test = pd.read_csv(TEST_DATA_FILE)"
   ]
  },
  {
   "cell_type": "code",
   "execution_count": 5,
   "metadata": {},
   "outputs": [],
   "source": [
    "list_sentences_train = train[\"comment_text\"].fillna(\"_na_\").values # comment_text만 가져와서 fillna를 통해 nan를 거른다.\n",
    "                                                                   # Just import comment_text and filter nan through fillna.\n",
    "list_classes = [\"toxic\", \"severe_toxic\", \"obscene\", \"threat\", \"insult\", \"identity_hate\"] # 사용할 컬럼들(to use columns)\n",
    "y = train[list_classes].values # labels of comment_text\n",
    "list_sentences_test = test[\"comment_text\"].fillna(\"_na_\").values # Do the same things for test_data"
   ]
  },
  {
   "cell_type": "markdown",
   "metadata": {},
   "source": [
    "## Tokenize comment_text"
   ]
  },
  {
   "cell_type": "code",
   "execution_count": 6,
   "metadata": {},
   "outputs": [],
   "source": [
    "tokenizer = Tokenizer(num_words=max_features) # max_features 만큼의 단어를 Tokenize하기 위한 틀 생성.\n",
    "                                              # Create a frame to Tokenize words as many as max_features.\n",
    "tokenizer.fit_on_texts(list(list_sentences_train)) # just fit\n",
    "list_tokenized_train = tokenizer.texts_to_sequences(list_sentences_train) # Tokenize(Transform word into number)\n",
    "list_tokenized_test = tokenizer.texts_to_sequences(list_sentences_test) # Tokenize(Transform word into number)"
   ]
  },
  {
   "cell_type": "code",
   "execution_count": 11,
   "metadata": {},
   "outputs": [
    {
     "name": "stdout",
     "output_type": "stream",
     "text": [
      "[[  688    75     1   126   130   177    29   672  4511 12052  1116    86\n",
      "    331    51  2278 11448    50  6864    15    60  2756   148     7  2937\n",
      "     34   117  1221 15188  2825     4    45    59   244     1   365    31\n",
      "      1    38    27   143    73  3462    89  3085  4583  2273   985]]\n"
     ]
    }
   ],
   "source": [
    "print(np.reshape(list_tokenized_train[0], (1,-1))) # 각 문장(comment)의 단어들을 1(가장 많이 사용된 단어) ~ 20000(2만번째로 많이 사용된 단어) 으로 정수화함"
   ]
  },
  {
   "cell_type": "code",
   "execution_count": 12,
   "metadata": {},
   "outputs": [],
   "source": [
    "X_t = pad_sequences(list_tokenized_train, maxlen=maxlen) # 모든 단어는 각자 다른 길이를 갖고 있으므로 작은 길이의 문장에 \n",
    "                                                         # padding을 해줌으로서 모든 문장의 길이를 maxlen로 맞춰줌\n",
    "                                                         # All comment_texts are different in length, \n",
    "                                                         # so 0 is filled as much as maxlen in small sentences\n",
    "X_te = pad_sequences(list_tokenized_test, maxlen=maxlen) # do the same thing"
   ]
  },
  {
   "cell_type": "code",
   "execution_count": 13,
   "metadata": {},
   "outputs": [
    {
     "data": {
      "text/plain": [
       "array([[    0,     0,     0, ...,  4583,  2273,   985],\n",
       "       [    0,     0,     0, ...,   589,  8377,   182],\n",
       "       [    0,     0,     0, ...,     1,   737,   468],\n",
       "       ...,\n",
       "       [    0,     0,     0, ...,  3509, 13674,  4528],\n",
       "       [    0,     0,     0, ...,   151,    34,    11],\n",
       "       [    0,     0,     0, ...,  1627,  2056,    88]], dtype=int32)"
      ]
     },
     "execution_count": 13,
     "metadata": {},
     "output_type": "execute_result"
    }
   ],
   "source": [
    "X_t # 모든 문장의 길이를 maxlen으로 통일"
   ]
  },
  {
   "cell_type": "markdown",
   "metadata": {},
   "source": [
    "## Get GloVe vectors"
   ]
  },
  {
   "cell_type": "code",
   "execution_count": 15,
   "metadata": {},
   "outputs": [
    {
     "data": {
      "text/plain": [
       "array([ 0.52042 , -0.8314  ,  0.49961 ,  1.2893  ,  0.1151  ,  0.057521,\n",
       "       -1.3753  , -0.97313 ,  0.18346 ,  0.47672 , -0.15112 ,  0.35532 ,\n",
       "        0.25912 , -0.77857 ,  0.52181 ,  0.47695 , -1.4251  ,  0.858   ,\n",
       "        0.59821 , -1.0903  ,  0.33574 , -0.60891 ,  0.41742 ,  0.21569 ,\n",
       "       -0.07417 , -0.5822  , -0.4502  ,  0.17253 ,  0.16448 , -0.38413 ,\n",
       "        2.3283  , -0.66682 , -0.58181 ,  0.74389 ,  0.095015, -0.47865 ,\n",
       "       -0.84591 ,  0.38704 ,  0.23693 , -1.5523  ,  0.64802 , -0.16521 ,\n",
       "       -1.4719  , -0.16224 ,  0.79857 ,  0.97391 ,  0.40027 , -0.21912 ,\n",
       "       -0.30938 ,  0.26581 ], dtype=float32)"
      ]
     },
     "execution_count": 15,
     "metadata": {},
     "output_type": "execute_result"
    }
   ],
   "source": [
    "def get_coefs(word,*arr): \n",
    "    return word, np.asarray(arr, dtype='float32')\n",
    "embeddings_index = dict(get_coefs(*o.strip().split()) for o in open(EMBEDDING_FILE)) # glove의 (단어, 벡터)를 가져옴\n",
    "                                                                                     # Get (word, vector) of glove\n",
    "embeddings_index.get(\"apple\")"
   ]
  },
  {
   "cell_type": "code",
   "execution_count": 16,
   "metadata": {},
   "outputs": [
    {
     "data": {
      "text/plain": [
       "(0.020940464, 0.6441042)"
      ]
     },
     "execution_count": 16,
     "metadata": {},
     "output_type": "execute_result"
    }
   ],
   "source": [
    "all_embs = np.stack(embeddings_index.values()) # glove의 dict(embeddings_index)에서 벡터만 list 로 변환\n",
    "                                               # Convert vectors of glove's dict(embeddings_index) into list\n",
    "emb_mean,emb_std = all_embs.mean(), all_embs.std() # glove 벡터들의 평균과 표준편차를 구함\n",
    "                                                   # Obtain the mean and standard deviation of glove vectors\n",
    "emb_mean,emb_std"
   ]
  },
  {
   "cell_type": "markdown",
   "metadata": {},
   "source": [
    "## make embedding maxtirx based GloVe"
   ]
  },
  {
   "cell_type": "code",
   "execution_count": 17,
   "metadata": {},
   "outputs": [],
   "source": [
    "word_index = tokenizer.word_index # tokenizer에 의해 얻어진 모든 단어들의 배열\n",
    "                                  # an array of all the words obtained by the tokenizer\n",
    "nb_words = min(max_features, len(word_index)) # glove의 영어단어는 너무 많으므로 max_features에 맞출지 word_index에 맞출지 정함\n",
    "                                              # Because glove has too many English words, \n",
    "                                              # it determines whether the number of words matches max_features or word_index\n",
    "embedding_matrix = np.random.normal(emb_mean, emb_std, (nb_words, embed_size)) # (nb_words X embed_size) 크기의 벡터 필드를 설정\n",
    "                                                                               # Set a vector field of size (nb_words X embed_size)"
   ]
  },
  {
   "cell_type": "code",
   "execution_count": 18,
   "metadata": {},
   "outputs": [],
   "source": [
    "for word, i in word_index.items():\n",
    "    if i >= max_features: \n",
    "        continue # 2만개 이상은 무시(Ignore more than max_feature.)\n",
    "    embedding_vector = embeddings_index.get(word) # comment에서 사용된 단어의 벡터값을 glove에서 가져옴\n",
    "                                                  # The vector value of the word used in comment is taken from glove\n",
    "    \n",
    "    if embedding_vector is not None: \n",
    "        embedding_matrix[i] = embedding_vector # embedding_matrix에 사용된 단어의 벡터값을 덮어 씌움\n",
    "                                               # Override embedding_matrix with the vector value defined in glove."
   ]
  },
  {
   "cell_type": "markdown",
   "metadata": {},
   "source": [
    "## Define Model"
   ]
  },
  {
   "cell_type": "code",
   "execution_count": 19,
   "metadata": {},
   "outputs": [
    {
     "name": "stdout",
     "output_type": "stream",
     "text": [
      "WARNING:tensorflow:From /home/dislab/anaconda2/lib/python2.7/site-packages/tensorflow/python/util/deprecation.py:497: calling conv1d (from tensorflow.python.ops.nn_ops) with data_format=NHWC is deprecated and will be removed in a future version.\n",
      "Instructions for updating:\n",
      "`NHWC` for data_format is deprecated, use `NWC` instead\n"
     ]
    }
   ],
   "source": [
    "inp = Input(shape=(maxlen,)) # X_t가 (maxlen, -1)인지 재확인 및 reshape\n",
    "x = Embedding(max_features, embed_size, weights=[embedding_matrix])(inp) # inp를 (max_features X embed_size)의 행렬에 weights의 가중치로 embedding\n",
    "\n",
    "x = Conv1D(64, kernel_size=3, padding='same', name='conv1')(x) # CNN\n",
    "x = BatchNormalization()(x) # batch normalization\n",
    "x = ELU()(x) # ELU\n",
    "x = MaxPool1D()(x) # maxpooling\n",
    "\n",
    "x = Bidirectional(LSTM(50, return_sequences=True, dropout=0.1, recurrent_dropout=0.1))(x) # RNN중 하나인 LSTM사용 and maxpool\n",
    "x = GlobalMaxPool1D()(x) # maxpolling\n",
    "\n",
    "x = Dense(50, activation=\"relu\")(x) # Fully connection layer\n",
    "x = Dropout(0.1)(x)\n",
    "x = Dense(6, activation=\"sigmoid\")(x) # 결론\n",
    "\n",
    "\n",
    "model = Model(inputs=inp, outputs=x) # 모델의 input, output설정\n",
    "model.compile(loss='binary_crossentropy', optimizer='adam', metrics=['accuracy']) # optimizer는 adam loss는 binary_crossentropy로 구함"
   ]
  },
  {
   "cell_type": "code",
   "execution_count": 20,
   "metadata": {},
   "outputs": [
    {
     "name": "stdout",
     "output_type": "stream",
     "text": [
      "Train on 143613 samples, validate on 15958 samples\n",
      "Epoch 1/10\n",
      "143613/143613 [==============================] - 298s 2ms/step - loss: 0.0607 - acc: 0.9788 - val_loss: 0.0504 - val_acc: 0.9819\n",
      "Epoch 2/10\n",
      "143613/143613 [==============================] - 296s 2ms/step - loss: 0.0462 - acc: 0.9827 - val_loss: 0.0479 - val_acc: 0.9824\n",
      "Epoch 3/10\n",
      "143613/143613 [==============================] - 298s 2ms/step - loss: 0.0415 - acc: 0.9841 - val_loss: 0.0478 - val_acc: 0.9826\n",
      "Epoch 4/10\n",
      "143613/143613 [==============================] - 301s 2ms/step - loss: 0.0380 - acc: 0.9851 - val_loss: 0.0468 - val_acc: 0.9831\n",
      "Epoch 5/10\n",
      "143613/143613 [==============================] - 301s 2ms/step - loss: 0.0350 - acc: 0.9859 - val_loss: 0.0496 - val_acc: 0.9821\n",
      "Epoch 6/10\n",
      "143613/143613 [==============================] - 300s 2ms/step - loss: 0.0324 - acc: 0.9870 - val_loss: 0.0508 - val_acc: 0.9826\n",
      "Epoch 7/10\n",
      "143613/143613 [==============================] - 300s 2ms/step - loss: 0.0296 - acc: 0.9880 - val_loss: 0.0546 - val_acc: 0.9817\n",
      "Epoch 8/10\n",
      "143613/143613 [==============================] - 306s 2ms/step - loss: 0.0274 - acc: 0.9888 - val_loss: 0.0565 - val_acc: 0.9816\n",
      "\n",
      "Epoch 00008: ReduceLROnPlateau reducing learning rate to 0.000500000023749.\n",
      "Epoch 9/10\n",
      "143613/143613 [==============================] - 302s 2ms/step - loss: 0.0235 - acc: 0.9905 - val_loss: 0.0636 - val_acc: 0.9813\n",
      "Epoch 10/10\n",
      "143613/143613 [==============================] - 300s 2ms/step - loss: 0.0214 - acc: 0.9914 - val_loss: 0.0738 - val_acc: 0.9818\n"
     ]
    }
   ],
   "source": [
    "learning_rate_reduction = ReduceLROnPlateau(monitor='val_acc', \n",
    "                                            patience=3, \n",
    "                                            verbose=1, \n",
    "                                            factor=0.5, \n",
    "                                            min_lr=0.0000001)\n",
    "\n",
    "callbacks = [learning_rate_reduction, # learning_rate를 점차 감소시킴으로서 최적값에 접근하는 방식\n",
    "                                                       # approach to get optimal value by gradually decreasing learning_rate\n",
    "             #EarlyStopping('val_loss', patience=2), # val_loss이 최적값에서 멀어지는 순간 epoch가 남아도 학습 중지\n",
    "                                                                       # If val_loss deviates from the optimal value, \n",
    "                                                                       # learning stops even if epoch remains.\n",
    "             ModelCheckpoint(MODEL_WEIGHTS_FILE, save_best_only=True)] # 모델을 학습시키면서 지금까지 등장했던 최적의 weight들을 항상 저장한다.\n",
    "                                                                                                            # Always store the optimal weights that have been shown so far \n",
    "                                                                                                            # while learning the model\n",
    "\n",
    "history = model.fit(X_t, y, batch_size=32, epochs=10, validation_split=0.1, callbacks=callbacks); # 학습 시작"
   ]
  },
  {
   "cell_type": "markdown",
   "metadata": {},
   "source": [
    "## Predict result"
   ]
  },
  {
   "cell_type": "code",
   "execution_count": 21,
   "metadata": {},
   "outputs": [
    {
     "name": "stdout",
     "output_type": "stream",
     "text": [
      "153164/153164 [==============================] - 33s 216us/step\n"
     ]
    }
   ],
   "source": [
    "y_test = model.predict([X_te], batch_size=1024, verbose=1) # model에 test data를 넣고 예측\n",
    "sample_submission = pd.read_csv('./data/sample_submission.csv') # 예측값을 저장할 csv파일\n",
    "sample_submission[list_classes] = y_test # csv에 저장할 값을 설정\n",
    "sample_submission.to_csv('./data/submission.csv', index=False) # csv파일에 저장"
   ]
  },
  {
   "cell_type": "markdown",
   "metadata": {},
   "source": [
    "## Make graph that compare loss and val_loss"
   ]
  },
  {
   "cell_type": "code",
   "execution_count": 22,
   "metadata": {},
   "outputs": [
    {
     "name": "stderr",
     "output_type": "stream",
     "text": [
      "/home/dislab/anaconda2/lib/python2.7/site-packages/ipykernel_launcher.py:5: DeprecationWarning: \n",
      ".ix is deprecated. Please use\n",
      ".loc for label based indexing or\n",
      ".iloc for positional indexing\n",
      "\n",
      "See the documentation here:\n",
      "http://pandas.pydata.org/pandas-docs/stable/indexing.html#ix-indexer-is-deprecated\n",
      "  \"\"\"\n"
     ]
    },
    {
     "data": {
      "image/png": "[encoded data removed]",
      "text/plain": [
       "<matplotlib.figure.Figure at 0x7f6f7f8eb590>"
      ]
     },
     "metadata": {},
     "output_type": "display_data"
    }
   ],
   "source": [
    "loss = pd.DataFrame({'epoch': [ i + 1 for i in history.epoch ],\n",
    "                     'training': [ math.sqrt(loss) for loss in history.history['loss'] ],\n",
    "                     'validation': [ math.sqrt(loss) for loss in history.history['val_loss'] ]})\n",
    "#ax = loss.ix[:,:].plot(x='epoch', figsize={1,30}, grid=True)\n",
    "ax = loss.ix[:,:].plot(x='epoch', grid=True)\n",
    "ax.set_ylabel(\"root mean squared error\")\n",
    "ax.set_ylim([0.0,0.3]);"
   ]
  },
  {
   "cell_type": "code",
   "execution_count": null,
   "metadata": {},
   "outputs": [],
   "source": []
  }
 ],
 "metadata": {
  "kernelspec": {
   "display_name": "Python 2",
   "language": "python",
   "name": "python2"
  },
  "language_info": {
   "codemirror_mode": {
    "name": "ipython",
    "version": 2
   },
   "file_extension": ".py",
   "mimetype": "text/x-python",
   "name": "python",
   "nbconvert_exporter": "python",
   "pygments_lexer": "ipython2",
   "version": "2.7.14"
  }
 },
 "nbformat": 4,
 "nbformat_minor": 2
}
